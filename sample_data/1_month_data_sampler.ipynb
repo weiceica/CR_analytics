{
 "cells": [
  {
   "cell_type": "code",
   "execution_count": 5,
   "metadata": {},
   "outputs": [
    {
     "name": "stdout",
     "output_type": "stream",
     "text": [
      "Sampled data written to c:\\Users\\robin\\downloads\\CR_Analytics\\sample_data\\Sample_Month_Data\\20231002.csv\n",
      "Sampled data written to c:\\Users\\robin\\downloads\\CR_Analytics\\sample_data\\Sample_Month_Data\\20231003.csv\n",
      "Sampled data written to c:\\Users\\robin\\downloads\\CR_Analytics\\sample_data\\Sample_Month_Data\\20231004.csv\n",
      "Sampled data written to c:\\Users\\robin\\downloads\\CR_Analytics\\sample_data\\Sample_Month_Data\\20231005.csv\n",
      "Sampled data written to c:\\Users\\robin\\downloads\\CR_Analytics\\sample_data\\Sample_Month_Data\\20231006.csv\n",
      "Sampled data written to c:\\Users\\robin\\downloads\\CR_Analytics\\sample_data\\Sample_Month_Data\\20231007.csv\n",
      "Sampled data written to c:\\Users\\robin\\downloads\\CR_Analytics\\sample_data\\Sample_Month_Data\\20231008.csv\n",
      "Sampled data written to c:\\Users\\robin\\downloads\\CR_Analytics\\sample_data\\Sample_Month_Data\\20231009.csv\n",
      "Sampled data written to c:\\Users\\robin\\downloads\\CR_Analytics\\sample_data\\Sample_Month_Data\\20231010.csv\n",
      "Sampled data written to c:\\Users\\robin\\downloads\\CR_Analytics\\sample_data\\Sample_Month_Data\\20231011.csv\n",
      "Sampled data written to c:\\Users\\robin\\downloads\\CR_Analytics\\sample_data\\Sample_Month_Data\\20231012.csv\n",
      "Sampled data written to c:\\Users\\robin\\downloads\\CR_Analytics\\sample_data\\Sample_Month_Data\\20231013.csv\n",
      "Sampled data written to c:\\Users\\robin\\downloads\\CR_Analytics\\sample_data\\Sample_Month_Data\\20231014.csv\n",
      "Sampled data written to c:\\Users\\robin\\downloads\\CR_Analytics\\sample_data\\Sample_Month_Data\\20231015.csv\n",
      "Sampled data written to c:\\Users\\robin\\downloads\\CR_Analytics\\sample_data\\Sample_Month_Data\\20231016.csv\n",
      "Sampled data written to c:\\Users\\robin\\downloads\\CR_Analytics\\sample_data\\Sample_Month_Data\\20231017.csv\n",
      "Sampled data written to c:\\Users\\robin\\downloads\\CR_Analytics\\sample_data\\Sample_Month_Data\\20231018.csv\n",
      "Sampled data written to c:\\Users\\robin\\downloads\\CR_Analytics\\sample_data\\Sample_Month_Data\\20231019.csv\n",
      "Sampled data written to c:\\Users\\robin\\downloads\\CR_Analytics\\sample_data\\Sample_Month_Data\\20231020.csv\n",
      "Sampled data written to c:\\Users\\robin\\downloads\\CR_Analytics\\sample_data\\Sample_Month_Data\\20231021.csv\n",
      "Sampled data written to c:\\Users\\robin\\downloads\\CR_Analytics\\sample_data\\Sample_Month_Data\\20231022.csv\n",
      "Sampled data written to c:\\Users\\robin\\downloads\\CR_Analytics\\sample_data\\Sample_Month_Data\\20231023.csv\n",
      "Sampled data written to c:\\Users\\robin\\downloads\\CR_Analytics\\sample_data\\Sample_Month_Data\\20231024.csv\n",
      "Sampled data written to c:\\Users\\robin\\downloads\\CR_Analytics\\sample_data\\Sample_Month_Data\\20231025.csv\n",
      "Sampled data written to c:\\Users\\robin\\downloads\\CR_Analytics\\sample_data\\Sample_Month_Data\\20231026.csv\n",
      "Sampled data written to c:\\Users\\robin\\downloads\\CR_Analytics\\sample_data\\Sample_Month_Data\\20231027.csv\n",
      "Sampled data written to c:\\Users\\robin\\downloads\\CR_Analytics\\sample_data\\Sample_Month_Data\\20231028.csv\n",
      "Sampled data written to c:\\Users\\robin\\downloads\\CR_Analytics\\sample_data\\Sample_Month_Data\\20231029.csv\n",
      "Sampled data written to c:\\Users\\robin\\downloads\\CR_Analytics\\sample_data\\Sample_Month_Data\\20231030.csv\n",
      "Sampled data written to c:\\Users\\robin\\downloads\\CR_Analytics\\sample_data\\Sample_Month_Data\\20231031.csv\n",
      "Sampled data written to c:\\Users\\robin\\downloads\\CR_Analytics\\sample_data\\Sample_Month_Data\\20231101.csv\n",
      "Sampled data written to c:\\Users\\robin\\downloads\\CR_Analytics\\sample_data\\Sample_Month_Data\\20231102.csv\n",
      "Sampled data written to c:\\Users\\robin\\downloads\\CR_Analytics\\sample_data\\Sample_Month_Data\\20231103.csv\n",
      "Sampled data written to c:\\Users\\robin\\downloads\\CR_Analytics\\sample_data\\Sample_Month_Data\\20231104.csv\n",
      "Sampled data written to c:\\Users\\robin\\downloads\\CR_Analytics\\sample_data\\Sample_Month_Data\\20231105.csv\n",
      "Sampled data written to c:\\Users\\robin\\downloads\\CR_Analytics\\sample_data\\Sample_Month_Data\\20231106.csv\n",
      "Sucessfully Created Datasets.\n"
     ]
    }
   ],
   "source": [
    "import pandas as pd\n",
    "import numpy as np\n",
    "import os\n",
    "from sampler import create_sample\n",
    "\n",
    "# Number of samples taken\n",
    "sample_amount = 1000\n",
    "\n",
    "directory = '../data/20231002-20231106/'    \n",
    "\n",
    "# Create Output Directory\n",
    "cwd = os.getcwd()\n",
    "output_directory = os.path.join(cwd, \"Sample_Month_Data\")\n",
    "if not os.path.exists(output_directory):\n",
    "    os.mkdir(output_directory)\n",
    "\n",
    "# Loop through each file in the directory\n",
    "for filename in os.listdir(directory):\n",
    "    if filename.endswith(\".csv\"):\n",
    "        file_path = os.path.join(directory, filename)\n",
    "        output_path = os.path.join(output_directory, filename)\n",
    "        create_sample(file_path, output_path, sample_amount)\n",
    "\n",
    "print(\"Sucessfully Created Datasets.\")\n"
   ]
  }
 ],
 "metadata": {
  "kernelspec": {
   "display_name": ".venv",
   "language": "python",
   "name": "python3"
  },
  "language_info": {
   "codemirror_mode": {
    "name": "ipython",
    "version": 3
   },
   "file_extension": ".py",
   "mimetype": "text/x-python",
   "name": "python",
   "nbconvert_exporter": "python",
   "pygments_lexer": "ipython3",
   "version": "3.11.1"
  }
 },
 "nbformat": 4,
 "nbformat_minor": 2
}
