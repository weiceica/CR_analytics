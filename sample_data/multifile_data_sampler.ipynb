{
 "cells": [
  {
   "cell_type": "code",
   "execution_count": 2,
   "metadata": {},
   "outputs": [
    {
     "name": "stdout",
     "output_type": "stream",
     "text": [
      "Beginning sampling process\n",
      "Error processing file ../data\\20221108-20221205\\20221108-20221205\\20221111.csv: Error tokenizing data. C error: no error message set\n",
      "Error processing file ../data\\20230904-20231002\\20230904-20231002\\20230921.csv: Error tokenizing data. C error: no error message set\n"
     ]
    }
   ],
   "source": [
    "import os\n",
    "import glob\n",
    "import pandas as pd\n",
    "import numpy as np\n",
    "\n",
    "# Path to the main directory containing CSV files\n",
    "main_directory = '../data'\n",
    "\n",
    "# Recursively find all CSV files\n",
    "csv_files = glob.glob(os.path.join(main_directory, '**/*.csv'), recursive=True)\n",
    "\n",
    "# Total final sample size\n",
    "total_sample_size = 100000\n",
    "\n",
    "# Calculate sample size per file\n",
    "sample_size_per_file = max(1, total_sample_size // len(csv_files))\n",
    "\n",
    "# Function to get random sample from a file\n",
    "def get_random_sample_from_file(file, sample_size, chunksize=10000):\n",
    "    # Determine the number of rows in the file\n",
    "    n = sum(1 for line in open(file)) - 1  # Excluding header\n",
    "\n",
    "    # Number of rows to skip, adjust sample size if the file is smaller\n",
    "    skip = max(0, n - sample_size)\n",
    "    \n",
    "    # Use random_state for reproducibility, set chunksize to manage memory\n",
    "    iterator = pd.read_csv(file, chunksize=chunksize, skiprows=lambda x: x > 0 and np.random.rand() > skip / n)\n",
    "\n",
    "    # Iterate over chunks and concatenate a sample from each\n",
    "    sample = pd.concat([chunk.sample(min(len(chunk), sample_size // (n // chunksize + 1))) for chunk in iterator])\n",
    "\n",
    "    return sample\n",
    "\n",
    "# List to store sampled DataFrames\n",
    "sampled_dataframes = []\n",
    "\n",
    "print(\"Beginning sampling process\")\n",
    "\n",
    "# Sample from each file\n",
    "for file in csv_files:\n",
    "    try:\n",
    "        sample = get_random_sample_from_file(file, sample_size_per_file)\n",
    "        sampled_dataframes.append(sample)\n",
    "    except Exception as e:\n",
    "        print(f\"Error processing file {file}: {e}\")\n",
    "\n",
    "# Combine the samples\n",
    "combined_sample = pd.concat(sampled_dataframes, ignore_index=True)\n",
    "\n",
    "# Final sampling if the combined sample is larger than the desired total sample size\n",
    "if len(combined_sample) > total_sample_size:\n",
    "    combined_sample = combined_sample.sample(n=total_sample_size, random_state=np.random.RandomState())\n",
    "\n",
    "# Output file for the sample\n",
    "output_file = 'combined_sampled_data.csv'\n",
    "\n",
    "# Write the sample to a new CSV file\n",
    "combined_sample.to_csv(output_file, index=False)\n",
    "\n",
    "print(f\"Sampled data written to {output_file}\")\n"
   ]
  }
 ],
 "metadata": {
  "kernelspec": {
   "display_name": ".venv",
   "language": "python",
   "name": "python3"
  },
  "language_info": {
   "codemirror_mode": {
    "name": "ipython",
    "version": 3
   },
   "file_extension": ".py",
   "mimetype": "text/x-python",
   "name": "python",
   "nbconvert_exporter": "python",
   "pygments_lexer": "ipython3",
   "version": "3.11.1"
  }
 },
 "nbformat": 4,
 "nbformat_minor": 2
}
