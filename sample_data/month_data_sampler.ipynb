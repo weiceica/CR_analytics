{
 "cells": [
  {
   "cell_type": "code",
   "execution_count": null,
   "metadata": {},
   "outputs": [],
   "source": [
    "# Create a random sample of games for 1 month\n",
    "\n",
    "import pandas as pd\n",
    "import numpy as np\n",
    "import os\n",
    "from sampler import create_sample\n",
    "\n",
    "# Number of samples taken\n",
    "sample_amount = 10000\n",
    "\n",
    "directory = '../data/20231002-20231106/'    \n",
    "\n",
    "# Create Output Directory\n",
    "cwd = os.getcwd()\n",
    "output_directory = os.path.join(cwd, \"Sample_Month_Data\")\n",
    "if not os.path.exists(output_directory):\n",
    "    os.mkdir(output_directory)\n",
    "\n",
    "count = 0\n",
    "\n",
    "for filename in os.listdir(directory):\n",
    "    # check if current path is a file\n",
    "    if os.path.isfile(os.path.join(directory, filename)):\n",
    "        count += 1\n",
    "\n",
    "sample_per_file = sample_amount // count\n",
    "\n",
    "# Loop through each file in the directory\n",
    "for filename in os.listdir(directory):\n",
    "    if filename.endswith(\".csv\"):\n",
    "        file_path = os.path.join(directory, filename)\n",
    "        output_path = os.path.join(output_directory, filename)\n",
    "        create_sample(file_path, output_path, sample_per_file)\n",
    "\n",
    "print(\"Sucessfully Created Datasets.\")\n"
   ]
  }
 ],
 "metadata": {
  "kernelspec": {
   "display_name": ".venv",
   "language": "python",
   "name": "python3"
  },
  "language_info": {
   "name": "python",
   "version": "3.11.1"
  }
 },
 "nbformat": 4,
 "nbformat_minor": 2
}
