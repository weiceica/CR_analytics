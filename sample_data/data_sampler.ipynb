{
 "cells": [
  {
   "cell_type": "code",
   "execution_count": 3,
   "metadata": {},
   "outputs": [
    {
     "name": "stdout",
     "output_type": "stream",
     "text": [
      "Sampled data written to sampled_data.csv\n"
     ]
    }
   ],
   "source": [
    "import pandas as pd\n",
    "import numpy as np\n",
    "\n",
    "# Replace 'your_file.csv' with the path to your CSV file\n",
    "file_path = '../data/20231002-20231106/20231002-20231106/20230501-20230605/20230501-20230605/20230501.csv'\n",
    "\n",
    "# Load the data\n",
    "data = pd.read_csv(file_path)\n",
    "\n",
    "# Check if the file has at least 100,000 rows\n",
    "if len(data) >= 100000:\n",
    "    sample = data.sample(n=100000, random_state=np.random.RandomState())\n",
    "    \n",
    "    # Specify the file name for the output CSV\n",
    "    output_file = 'sampled_data.csv'\n",
    "\n",
    "    # Write the sample to a new CSV file\n",
    "    sample.to_csv(output_file, index=False)\n",
    "    \n",
    "    print(f\"Sampled data written to {output_file}\")\n",
    "else:\n",
    "    print(f\"The file only has {len(data)} rows, less than 100,000.\")\n",
    "    sample = data.sample(n=len(data), random_state=np.random.RandomState())"
   ]
  }
 ],
 "metadata": {
  "kernelspec": {
   "display_name": ".venv",
   "language": "python",
   "name": "python3"
  },
  "language_info": {
   "codemirror_mode": {
    "name": "ipython",
    "version": 3
   },
   "file_extension": ".py",
   "mimetype": "text/x-python",
   "name": "python",
   "nbconvert_exporter": "python",
   "pygments_lexer": "ipython3",
   "version": "3.11.1"
  }
 },
 "nbformat": 4,
 "nbformat_minor": 2
}
