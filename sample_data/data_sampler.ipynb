{
 "cells": [
  {
   "cell_type": "code",
   "execution_count": 11,
   "metadata": {},
   "outputs": [
    {
     "name": "stdout",
     "output_type": "stream",
     "text": [
      "Sampled data written to battle_stats.csv\n"
     ]
    }
   ],
   "source": [
    "import pandas as pd\n",
    "import numpy as np\n",
    "\n",
    "# Number of samples taken\n",
    "sample_amount = 1000\n",
    "\n",
    "# Files\n",
    "file_path = '../data/20231002-20231106/20231002-20231106/20230501-20230605/20230501-20230605/20230501.csv'\n",
    "battle_file = 'battle_stats.csv'\n",
    "card_file = 'card_stats.csv'\n",
    "\n",
    "# Load the data\n",
    "data = pd.read_csv(file_path)\n",
    "\n",
    "# Defining Column Names\n",
    "new_column_names = ['Time', 'Gamemode', 'P1Tag', 'P1Trophies', 'P1Crowns', 'P1Card1', 'P1Card2', 'P1Card3', 'P1Card4', 'P1Card5', 'P1Card6', 'P1Card7', 'P1Card8', 'P2Tag', 'P2Trophies', 'P2Crowns', 'P2Card1', 'P2Card2', 'P2Card3', 'P2Card4', 'P2Card5', 'P2Card6', 'P2Card7', 'P2Card8']\n",
    "\n",
    "# Assign new column names\n",
    "data.columns = new_column_names\n",
    "\n",
    "# Check if the file has at least sample_amount rows\n",
    "if len(data) >= sample_amount:\n",
    "    sample = data.sample(n=sample_amount, random_state=np.random.RandomState())\n",
    "    \n",
    "    # Write the sample to a new CSV file\n",
    "    sample.to_csv(battle_file, index=False)\n",
    "    \n",
    "    print(f\"Sampled data written to {battle_file}\")\n",
    "else:\n",
    "    print(f\"The file only has {len(data)} rows, less than {sample_amount}.\")"
   ]
  },
  {
   "cell_type": "code",
   "execution_count": 12,
   "metadata": {},
   "outputs": [
    {
     "name": "stdout",
     "output_type": "stream",
     "text": [
      "File has been updated and saved as battle_stats.csv.\n"
     ]
    }
   ],
   "source": [
    "# Add win column\n",
    "\n",
    "data = sample\n",
    "\n",
    "# Create PLayer 1 win column\n",
    "data['P1Win'] = data.iloc[:, 4] > data.iloc[:, 15]\n",
    "\n",
    "# Save the updated DataFrame to a new CSV file\n",
    "data.to_csv(battle_file, index=False)\n",
    "\n",
    "print(f\"File has been updated and saved as {battle_file}.\")\n"
   ]
  },
  {
   "cell_type": "code",
   "execution_count": 13,
   "metadata": {},
   "outputs": [
    {
     "name": "stdout",
     "output_type": "stream",
     "text": [
      "Card statistics written to card_stats.csv\n"
     ]
    }
   ],
   "source": [
    "import json\n",
    "\n",
    "# List of all card columns for both players\n",
    "card_columns_p1 = [f'P1Card{j}' for j in range(1, 9)]\n",
    "card_columns_p2 = [f'P2Card{j}' for j in range(1, 9)]\n",
    "\n",
    "# Initialize a dictionary to store card stats\n",
    "card_stats = {}\n",
    "\n",
    "# Function to update stats\n",
    "def update_stats(card, player_won):\n",
    "    if card not in card_stats:\n",
    "        card_stats[card] = {'played': 0, 'wins': 0}\n",
    "    card_stats[card]['played'] += 1\n",
    "    if player_won:\n",
    "        card_stats[card]['wins'] += 1\n",
    "\n",
    "# Iterate over each row and update stats\n",
    "for _, row in data.iterrows():\n",
    "    p1_won = row['P1Win']\n",
    "    for card in row[card_columns_p1]:\n",
    "        update_stats(card, p1_won)\n",
    "    for card in row[card_columns_p2]:\n",
    "        update_stats(card, not p1_won)\n",
    "\n",
    "# Calculate additional statistics\n",
    "total_picks = sum([stat['played'] for stat in card_stats.values()])\n",
    "for card, stats in card_stats.items():\n",
    "    stats['pick_rate'] = stats['played'] / total_picks\n",
    "    stats['win_rate'] = stats['wins'] / stats['played'] if stats['played'] > 0 else 0\n",
    "\n",
    "# Load the JSON file with card ID-to-name mapping\n",
    "json_file_path = 'card_info.json'  # Replace with your JSON file path\n",
    "with open(json_file_path, 'r', encoding=\"utf-8\") as file:\n",
    "    card_name_mapping = json.load(file)\n",
    "\n",
    "# Convert to DataFrame\n",
    "stats_df = pd.DataFrame.from_dict(card_stats, orient='index')\n",
    "\n",
    "# Add Cards Name to column\n",
    "stats_df.index = stats_df.index.astype(str)\n",
    "stats_df.index = stats_df.index.map(card_name_mapping)\n",
    "stats_df.index.name = 'Cards'\n",
    "\n",
    "# Save to a new CSV file\n",
    "stats_df.to_csv(card_file)\n",
    "\n",
    "print(f\"Card statistics written to {card_file}\")"
   ]
  }
 ],
 "metadata": {
  "kernelspec": {
   "display_name": ".venv",
   "language": "python",
   "name": "python3"
  },
  "language_info": {
   "codemirror_mode": {
    "name": "ipython",
    "version": 3
   },
   "file_extension": ".py",
   "mimetype": "text/x-python",
   "name": "python",
   "nbconvert_exporter": "python",
   "pygments_lexer": "ipython3",
   "version": "3.11.1"
  }
 },
 "nbformat": 4,
 "nbformat_minor": 2
}
